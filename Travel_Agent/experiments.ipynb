{
 "cells": [
  {
   "cell_type": "code",
   "execution_count": 1,
   "metadata": {},
   "outputs": [],
   "source": [
    "import os\n",
    "from langchain_openai import OpenAI\n",
    "from langchain.memory.buffer import ConversationBufferMemory\n",
    "from langchain.prompts import PromptTemplate, FewShotPromptTemplate\n",
    "from langchain.chains.llm import LLMChain\n",
    "import streamlit as st\n",
    "from dotenv import load_dotenv, find_dotenv\n",
    "\n",
    "from constants import FEW_SHOT_EXAMPLE\n",
    "import warnings\n",
    "warnings.filterwarnings(\"ignore\")"
   ]
  },
  {
   "cell_type": "code",
   "execution_count": 2,
   "metadata": {},
   "outputs": [],
   "source": [
    "load_dotenv(find_dotenv())\n",
    "\n",
    "# load the API Key\n",
    "os.environ[\"OPENAI_API_KEY\"] = os.getenv(\"OPENAI_API_KEY\", \"\")"
   ]
  },
  {
   "cell_type": "code",
   "execution_count": 6,
   "metadata": {},
   "outputs": [],
   "source": [
    "# intialize the model\n",
    "llm_model = OpenAI(\n",
    "    model=\"gpt-3.5-turbo-instruct\",\n",
    "    temperature=0.3,\n",
    "    max_tokens=1500\n",
    ")\n",
    "\n",
    "# intialize the Memory\n",
    "memory = ConversationBufferMemory()\n",
    "\n",
    "# Intialize the Prompt example\n",
    "example_travel_prompt = PromptTemplate(\n",
    "    input_variables=[\"travel_query\", \"travel_response\"],\n",
    "    template=\"\"\"\n",
    "        Role: You are an intelligent Travel Agent Advisor whose job is to plan a trip based on the source and destination provided by the customer query.\n",
    "        Instruction: First completely analyse the request step by step and then provide your response in accurate, \n",
    "                    precise and point wise manner so that a customer easily understands the mode of transportation, \n",
    "                    fare for each mode of transportation, flight number, cab number, buses number. \n",
    "                    Also, suggest the alternate route/mode of transportation if not present directly from source and destination. \n",
    "                    Make sure not to provide any incorrect or unfeasible information that is not useful to the customer. \n",
    "        Query: {travel_query}\n",
    "        Response: {travel_response}\n",
    "\"\"\",\n",
    ")"
   ]
  },
  {
   "cell_type": "code",
   "execution_count": 8,
   "metadata": {},
   "outputs": [
    {
     "name": "stdout",
     "output_type": "stream",
     "text": [
      "\n",
      "        Role: You are an intelligent Travel Agent Advisor whose job is to plan a trip based on the source and destination provided by the customer query.\n",
      "        Instruction: First completely analyse the request step by step and then provide your response in accurate, \n",
      "                    precise and point wise manner so that a customer easily understands the mode of transportation, \n",
      "                    fare for each mode of transportation, flight number, cab number, buses number. \n",
      "                    Also, suggest the alternate route/mode of transportation if not present directly from source and destination. \n",
      "                    Make sure not to provide any incorrect or unfeasible information that is not useful to the customer. \n",
      "        Query: Can you plan a trip from Shahdara, Delhi to London?\n",
      "        Response: \n",
      "        Since this is a international travel request, let's understand the process of travelling from one country to another.\n",
      "        First we have to book a flight which might have some layover in between and might be a direct flight.To book a flight you can \n",
      "        use any of the online service provider. \n",
      "        \n",
      "        The layover options are: Gulf Air flight number GF 131, layover of 3hrs 25 mins at Bahrain and then to destination London-Heathrow Apt.\n",
      "        Total  cost will be Rs. 28343 per person.\n",
      "\n",
      "        The direct options are: Vistra flight UK 17 has total cost Rs. 67225, British Airways BA 142 has total cost Rs. 69891\n",
      "\n",
      "        Now, to reach airport to pick the flight, we need to either travel via Cab/Metro/Train/Buses. The nearest Airport for delhi is Indira \n",
      "        Gandhi International Airport (IGI)\n",
      "        Now there are no direct Train which goes to Delhi's airport.\n",
      "        So we have left with either Cab/Metro/Buses.\n",
      "        \n",
      "        The cab can be booked via Uber/Ola/Private Taxis. The fare will be Rs 600 to Rs 800 and will directly dropped to destination.\n",
      "        \n",
      "        The nearest metro station near Shahdara, Delhi is Shahadara Metro station. You have to change metro from Shahdara to Kashmere Gate then \n",
      "        from Kashmere Gate to New Delhi and from New Delhi to Terminal-3 via Airport Metro line. This change of station is required because there\n",
      "        is no direct metro from Shahdara, Delhi to Airport. Total cost is Rs. 45.\n",
      "\n",
      "        For buses you can make use of Delhi Transport Corporation(DTC) which only runs in Delhi NCR(National Capital Region).\n",
      "        The buses run every 20 mins and some buses are 717, 717B. It is good you confirm first which bus run on your flight day.\n",
      "        The cost of fare will Rs. 70 and will take 45 mins.        \n",
      "        The nearest bus station is IFFCO Chowk which you can reach by Metro but you have first board from Shahdara and then from Shahdara to\n",
      "        Kashmere gate then from Kashmere gate to IFFCO Chowk. But this route is completely opposite and will take lots of unnecessary time.\n",
      "        This route will be suitable for those who lives near to IFFCO Chowk.\n",
      "\n",
      "        The most economical and convenient option is Metro if you have less luggage but if you have more luggage and more people, I suggest to go\n",
      "        via Cab to Airport.\n",
      "\n",
      "        \n",
      "\n"
     ]
    }
   ],
   "source": [
    "print(example_travel_prompt.format(**FEW_SHOT_EXAMPLE[0]))"
   ]
  },
  {
   "cell_type": "code",
   "execution_count": 16,
   "metadata": {},
   "outputs": [],
   "source": [
    "# Intialize few short template with examples\n",
    "few_shot_prompt = FewShotPromptTemplate(\n",
    "    examples=FEW_SHOT_EXAMPLE,\n",
    "    example_prompt=example_travel_prompt,\n",
    "    suffix=\"Query: {travel_query}\",\n",
    "    input_variables=[\"travel_query\", \"travel_response\"]\n",
    ")"
   ]
  },
  {
   "cell_type": "code",
   "execution_count": 17,
   "metadata": {},
   "outputs": [],
   "source": [
    "# Created a LLM chain to run the model\n",
    "travel_chain = LLMChain(\n",
    "    llm=llm_model,\n",
    "    memory=memory,\n",
    "    prompt=few_shot_prompt\n",
    ")"
   ]
  },
  {
   "cell_type": "code",
   "execution_count": 18,
   "metadata": {},
   "outputs": [
    {
     "name": "stdout",
     "output_type": "stream",
     "text": [
      "\n",
      "Response: \n",
      "Since this is a domestic travel request, let's understand the process of travelling from one city to another city. \n",
      "First we have to book the mode of transport which we need to travel from source to destination. It might be flight/train/cab/buses.\n",
      "\n",
      "There are no direct flights from Hauz Khas, Delhi to Goa. \n",
      "IndiGo flight number 6E 744 will first fly from Delhi to Mumbai which has layover of 2hrs 40 mins and then from Mumbai to Goa.\n",
      "The nearest airport from Hauz Khas is DEL, Delhi and nearest airport from Goa is GOI. The total cost will be Rs. 10000.\n",
      "\n",
      "To reach DEL airport you can make use of Cabs which will cost around Rs. 500. You can also take the Delhi Metro from Hauz Khas \n",
      "station to New Delhi station, then change to the Airport Express Line to reach the airport. The total cost for the metro \n",
      "will be Rs. 60.\n",
      "\n",
      "For Train, you can book 02413 Rajdhani Special which starts from NDLS, Delhi at 04:25 PM and reach to MAO, Goa at 11:00 AM the next day.\n",
      "The journey has 8 stops and covers 1914 KM. Total cost will be between Rs. 3000 to Rs. 7000.\n",
      "\n",
      "To reach NDLS railway station, you can take a cab or use the Delhi Metro from Hauz Khas station to NDLS station. The total cost \n",
      "for the metro will be Rs. 30.\n"
     ]
    }
   ],
   "source": [
    "print(travel_chain.invoke({\"travel_query\":\"Plan a trip from Hauz Khas, Delhi to Goa?\"})[\"text\"])"
   ]
  },
  {
   "cell_type": "code",
   "execution_count": 12,
   "metadata": {},
   "outputs": [
    {
     "name": "stdout",
     "output_type": "stream",
     "text": [
      "\n",
      "Response: \n",
      "Since this is an international travel request, let's understand the process of travelling from one country to another.\n",
      "First we have to book a flight which might have some layover in between and might be a direct flight.To book a flight you can \n",
      "use any of the online service provider. \n",
      "\n",
      "The layover options are: Emirates flight number EK-202, layover of 3hrs 25 mins at Dubai International Airport and then to destination Bengaluru Kempegowda International Airport.\n",
      "Total cost will be Rs. 74201 per person.\n",
      "\n",
      "The direct options are: Air India flight number AI-101 has total cost Rs. 107833, United Airlines UA 48 has total cost Rs. 112985\n",
      "\n",
      "Now, to reach airport to pick the flight, we need to either travel via Cab/Subway/Train/Buses. The nearest Airport for New York is John F. Kennedy International Airport (JFK)\n",
      "Now there are no direct Train which goes to New York's airport.\n",
      "So we have left with either Cab/Subway/Buses.\n",
      "\n",
      "The cab can be booked via Uber/Lyft/Private Taxis. The fare will be $50 to $70 and will directly dropped to destination.\n",
      "\n",
      "The nearest subway station near New York is Jamaica Station. You have to change subway from Jamaica Station to Sutphin Blvd - Archer Av - JFK Airport then \n",
      "from Sutphin Blvd - Archer Av - JFK Airport to Howard Beach - JFK Airport and then from Howard Beach - JFK Airport to Terminal-4 via AirTrain JFK. This change of station is required because there\n",
      "is no direct subway from New York to Airport. Total cost is $7.75.\n",
      "\n",
      "For buses you can make use of New York City Transit Authority which runs in New York City.\n",
      "The buses run every 20 mins and some buses are Q10, Q3. It is good you confirm first which bus run on your flight day.\n",
      "The cost of fare will $2.75 and will take 45 mins.        \n",
      "The nearest bus station is Terminal-4 which you can reach by Subway but you have first board from Jamaica Station and then from Jamaica Station to\n",
      "Sutphin Blvd - Archer Av - JFK Airport then from Sutphin Blvd - Archer Av - JFK Airport to Howard Beach - JFK Airport and then from Howard Beach - JFK Airport to Terminal-4 via AirTrain JFK. This route is completely opposite and will take lots of unnecessary time.\n",
      "This route will be suitable for those who lives near to Terminal-4.\n",
      "\n",
      "The most economical and convenient option is Subway if you have less luggage but if you have more luggage and more people, I suggest to go\n",
      "via Cab to Airport.\n"
     ]
    }
   ],
   "source": [
    "print(travel_chain.invoke({\"travel_query\":\"Plan a trip from New York to bangalore?\"})[\"text\"])"
   ]
  },
  {
   "cell_type": "code",
   "execution_count": 19,
   "metadata": {},
   "outputs": [
    {
     "name": "stdout",
     "output_type": "stream",
     "text": [
      "\n",
      "Response: \n",
      "Since this is a domestic travel request, let's understand the process of travelling from one city to another city. \n",
      "First we have to book the mode of transport which we need to travel from source to destination. It might be flight/train/cab/buses.\n",
      "\n",
      "There are no direct flights available from Shivaji Park to Saket.\n",
      "\n",
      "For train, you can book the Delhi Metro from Rajiv Chowk station to Saket station. The fare is Rs. 30 and the journey will take approximately 25 minutes.\n",
      "\n",
      "For cab, you can book a ride from Uber/Ola or any other private taxi service. The fare will be around Rs. 200 to Rs. 300 and the journey will take approximately 40 minutes.\n",
      "\n",
      "For buses, you can take the DTC bus number 543A from Shivaji Park to Saket. The fare will be Rs. 25 and the journey will take approximately 1 hour.\n",
      "\n",
      "If you prefer a more direct route, you can also take the Delhi Metro from Rajiv Chowk station to Hauz Khas station and then change to the Yellow Line to reach Saket station. This route will take approximately 35 minutes and the fare will be Rs. 40.\n"
     ]
    }
   ],
   "source": [
    "print(travel_chain.invoke({\"travel_query\": \"Plan a trip from Shivaji park, Delhi to Saket, Delhi?\"})[\"text\"])"
   ]
  },
  {
   "cell_type": "code",
   "execution_count": 18,
   "metadata": {},
   "outputs": [
    {
     "name": "stdout",
     "output_type": "stream",
     "text": [
      "\n",
      "\n",
      "Since this is a domestic travel request, let's understand the process of travelling from one city to another city. \n",
      "First we have to book the mode of transport which we need to travel from source to destination. It might be flight/train/cab/buses.\n",
      "\n",
      "For this request, the best mode of transportation would be a flight. The nearest airport to Panchkula, Haryana is Chandigarh Airport (IXC)\n",
      "and the nearest airport to Kashmir is Srinagar Airport (SXR). There are no direct flights available from Chandigarh Airport to Srinagar Airport.\n",
      "However, there are connecting flights with layovers.\n",
      "\n",
      "The options for connecting flights are:\n",
      "\n",
      "1. Air India flight AI 9836 from Chandigarh to Delhi, with a layover of 2 hours and then connecting flight AI 825 from Delhi to Srinagar.\n",
      "Total cost would be around Rs. 11,000 to Rs. 15,000.\n",
      "\n",
      "2. IndiGo flight 6E 251 from Chandigarh to Delhi, with a layover of 2 hours and then connecting flight 6E 555 from Delhi to Srinagar.\n",
      "Total cost would be around Rs. 10,000 to Rs. 13,000.\n",
      "\n",
      "To reach Chandigarh Airport, you can take a taxi or cab which would cost around Rs. 500 to Rs. 700. Alternatively, you can also take a\n",
      "bus from Panchkula to Chandigarh and then take a taxi from Chandigarh to the airport.\n",
      "\n",
      "For train options, you can take a train from Chandigarh Railway Station to Jammu Tawi Railway Station, which would take around 7-8 hours.\n",
      "From Jammu Tawi, you can take a taxi or cab to reach Kashmir, which would take around 5-6 hours. Total cost would be around Rs. 5000 to Rs. 7000.\n",
      "\n",
      "In case of buses, there are no direct buses available from Panchkula to Kashmir. You can take a bus from Panchkula to Chandigarh and then\n",
      "take another bus from Chandigarh to Jammu. From Jammu, you can take a taxi or cab to reach Kashmir. Total cost would be around Rs. 2000 to Rs. 3000.\n",
      "\n",
      "In conclusion, the best and most convenient mode of transportation for this trip would be a flight. However, if you are on a budget, you can\n",
      "also consider taking a train or bus.\n"
     ]
    }
   ],
   "source": [
    "print(travel_chain.invoke({\"travel_query\":\"Plan a trip from panchkula, harayana to Kashmir?\"})[\"text\"])"
   ]
  },
  {
   "cell_type": "code",
   "execution_count": 14,
   "metadata": {},
   "outputs": [
    {
     "name": "stdout",
     "output_type": "stream",
     "text": [
      "\n",
      "Response: \n",
      "Since this is a domestic travel request, let's understand the process of travelling from one city to another city. \n",
      "First we have to book the mode of transport which we need to travel from source to destination. It might be flight/train/cab/buses.\n",
      "\n",
      "There are no direct flights from Jamshedpur to Rishikesh. The nearest airport from Jamshedpur is Sonari Airport (IXW) and the nearest airport\n",
      "from Rishikesh is Jolly Grant Airport (DED). The total cost for the flight will be around Rs. 8000 to Rs. 10000.\n",
      "\n",
      "To reach Sonari Airport, you can take a cab which will cost around Rs. 500 to Rs. 700. You can also take a train from Tatanagar Junction \n",
      "to Ranchi Junction and then from Ranchi Junction to Sonari Airport. The total cost for the train will be between Rs. 500 to Rs. 1000.\n",
      "\n",
      "For buses, you can take a bus from Jamshedpur to Ranchi and then from Ranchi to Rishikesh. The total cost for the bus will be between \n",
      "Rs. 1000 to Rs. 1500. The nearest bus station from Jamshedpur is Tatanagar Bus Stand and the nearest bus station from Rishikesh is \n",
      "Rishikesh Bus Stand.\n",
      "\n",
      "The most convenient and fastest option is to take a train from Tatanagar Junction to Rishikesh Railway Station. The total cost will be \n",
      "between Rs. 1500 to Rs. 2000. The journey will take around 24 hours with one or two stops in between. \n",
      "\n",
      "Another alternative is to take a cab directly from Jamshedpur to Rishikesh. The total cost will be around Rs. 8000 to Rs. 10000. \n",
      "This option is suitable for those who prefer a comfortable and hassle-free journey.\n"
     ]
    }
   ],
   "source": [
    "print(travel_chain.invoke({\"travel_query\": \"Trip from Jamshedpur, Jharkhand to Rishikesh, Uttarkand?\"})[\"text\"])"
   ]
  },
  {
   "cell_type": "code",
   "execution_count": 15,
   "metadata": {},
   "outputs": [
    {
     "name": "stdout",
     "output_type": "stream",
     "text": [
      "\n",
      "Response: \n",
      "Since this is an international travel request, let's understand the process of travelling from one country to another.\n",
      "First we have to book a flight which might have some layover in between and might be a direct flight. To book a flight you can \n",
      "use any of the online service provider. \n",
      "\n",
      "The layover options are: Air India flight number AI-981, layover of 4hrs 20 mins at Delhi and then to destination Hanoi, Vietnam.\n",
      "Total cost will be Rs. 20800 per person.\n",
      "\n",
      "The direct options are: Vietnam Airlines flight number VN-118 has total cost Rs. 47500, Vietjet Air VJ-181 has total cost Rs. 48200.\n",
      "\n",
      "Now, to reach airport to pick the flight, we need to either travel via Cab/Bus. The nearest Airport for Manali is Bhuntar Airport.\n",
      "From Manali, you can take a cab which will cost around Rs. 1500 to reach Bhuntar Airport.\n",
      "\n",
      "For buses, you can take a bus from Manali to Delhi and then from Delhi to Hanoi, Vietnam. The total cost will be around Rs. 2000\n",
      "and the journey will take approximately 2 days.\n",
      "\n",
      "If you are planning to travel by train, then you can take a train from Manali to Delhi and then from Delhi to Hanoi, Vietnam.\n",
      "The total cost will be around Rs. 5000 and the journey will take approximately 3 days.\n",
      "\n",
      "Alternatively, you can also take a flight from Bhuntar Airport to Delhi and then from Delhi to Hanoi, Vietnam. This will be the\n",
      "fastest and most convenient option, with a total cost of around Rs. 25000.\n"
     ]
    }
   ],
   "source": [
    "print(travel_chain.invoke({\"travel_query\": \"Trip from Manali to Vietnam?\"})[\"text\"])"
   ]
  },
  {
   "cell_type": "code",
   "execution_count": null,
   "metadata": {},
   "outputs": [],
   "source": []
  }
 ],
 "metadata": {
  "kernelspec": {
   "display_name": "Python 3 (ipykernel)",
   "language": "python",
   "name": "python3"
  },
  "language_info": {
   "codemirror_mode": {
    "name": "ipython",
    "version": 3
   },
   "file_extension": ".py",
   "mimetype": "text/x-python",
   "name": "python",
   "nbconvert_exporter": "python",
   "pygments_lexer": "ipython3",
   "version": "3.11.4"
  }
 },
 "nbformat": 4,
 "nbformat_minor": 4
}
