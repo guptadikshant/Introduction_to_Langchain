{
 "cells": [
  {
   "cell_type": "code",
   "execution_count": 1,
   "metadata": {},
   "outputs": [],
   "source": [
    "import os\n",
    "from langchain_openai import OpenAI\n",
    "from langchain.memory.buffer import ConversationBufferMemory\n",
    "from langchain.prompts import PromptTemplate, FewShotPromptTemplate\n",
    "from langchain.chains.llm import LLMChain\n",
    "import streamlit as st\n",
    "from dotenv import load_dotenv, find_dotenv\n",
    "\n",
    "from constants import FEW_SHOT_EXAMPLE\n",
    "import warnings\n",
    "warnings.filterwarnings(\"ignore\")"
   ]
  },
  {
   "cell_type": "code",
   "execution_count": 2,
   "metadata": {},
   "outputs": [],
   "source": [
    "load_dotenv(find_dotenv())\n",
    "\n",
    "# load the API Key\n",
    "os.environ[\"OPENAI_API_KEY\"] = os.getenv(\"OPENAI_API_KEY\", \"\")"
   ]
  },
  {
   "cell_type": "code",
   "execution_count": 3,
   "metadata": {},
   "outputs": [],
   "source": [
    "# intialize the model\n",
    "llm_model = OpenAI(\n",
    "    model=\"gpt-3.5-turbo-instruct\",\n",
    "    temperature=0.5,\n",
    "    max_tokens=1000\n",
    ")\n",
    "\n",
    "# intialize the Memory\n",
    "memory = ConversationBufferMemory()\n",
    "\n",
    "# Intialize the Prompt example\n",
    "example_travel_prompt = PromptTemplate(\n",
    "    input_variables=[\"travel_query\", \"travel_response\"],\n",
    "    template=\"\"\"\n",
    "        You are a intelligent Travel Agent Advisor which helps to plan a trip for a customer from one destination to another.\n",
    "        Now based on the source and destination for which a person asked to plan a trip for him, you have to provide your response\n",
    "        in accurate, precise and point wise manner so that a customer easily understands the mode of transportation,\n",
    "        fare for each mode of transportation, flight number, cab number, buses number and suggest the alternate route/mode of transportation\n",
    "        if not present directly from source and destination. Your job is also not provide any incorrect or not feasible information which is\n",
    "        not important to customer.\n",
    "        {travel_query} \\n {travel_response}\n",
    "\"\"\"\n",
    ")"
   ]
  },
  {
   "cell_type": "code",
   "execution_count": 5,
   "metadata": {},
   "outputs": [
    {
     "name": "stdout",
     "output_type": "stream",
     "text": [
      "\n",
      "        You are a intelligent Travel Agent Advisor which helps to plan a trip for a customer from one destination to another.\n",
      "        Now based on the source and destination for which a person asked to plan a trip for him, you have to provide your response\n",
      "        in accurate, precise and point wise manner so that a customer easily understands the mode of transportation,\n",
      "        fare for each mode of transportation, flight number, cab number, buses number and suggest the alternate route/mode of transportation\n",
      "        if not present directly from source and destination. Your job is also not provide any incorrect or not feasible information which is\n",
      "        not important to customer.\n",
      "        Can you plan a trip from Shahdara, Delhi to London? \n",
      " \n",
      "        You can reach out your destination by following below steps:\n",
      "        First you have to book a flight. To book a flight you can use any of the online service provider. There are 2 options to book a flight.\n",
      "        a) which has some layover in between.\n",
      "        b) which goes directlty to destination\n",
      "\n",
      "        The layover options are: Gulf Air flight number GF 131, layover of 3hrs 25 mins at Bahrain and then to destination London-Heathrow Apt.\n",
      "        Total  cost will be Rs. 28343 per person.\n",
      "\n",
      "        The direct options are: Vistra flight UK 17 has total cost Rs. 67225, British Airways BA 142 has total cost Rs. 69891\n",
      "\n",
      "\n",
      "        Now, to reach airport to pick the flight which is booked in step-1. All international flights fly from Terminal-3(T3) and domestic \n",
      "        flights fly from Terminal-1(T1) and Terminal-2(T2). \n",
      "        To reach Indira Gandhi International Airport, Terminal-3, you can go via cab which can be booked by Cabs/Metro/Buses.\n",
      "        \n",
      "        The cab can be booked via Uber/Ola/Private Taxis. The fare will be Rs 600 to Rs 800 and will directly dropped to destination.\n",
      "        \n",
      "        The nearest metro station near Shahdara, Delhi is Shahadara Metro station. You have to change metro from Shahdara to Kashmere Gate then \n",
      "        from Kashmere Gate to New Delhi and from New Delhi to Terminal-3 via Airport Metro line. This change of station is required because there\n",
      "        is no direct metro from Shahdara, Delhi to Airport. Total cost is Rs. 45.\n",
      "\n",
      "        For buses you can make use of Delhi Transport Corporation(DTC) which only runs in Delhi NCR(National Capital Region).\n",
      "        The buses run every 20 mins and some buses are 717, 717B. It is good you confirm first which bus run on your flight day.\n",
      "        The cost of fare will Rs. 70 and will take 45 mins.        \n",
      "        The nearest bus station is IFFCO Chowk which you can reach by Metro ut you have first board from Shahdara and then from Shahdara to\n",
      "        Kashmere gate then from Kashmere gate to IFFCO Chowk. But this route is completely opposite and will take lots of unnecessary time.\n",
      "        This route will be suitable for those who lives near to IFFCO Chowk.\n",
      "\n",
      "        The most economical and convenient option is Metro if you have less luggage but if you have more luggage and more people, I suggest to go\n",
      "        via Cab to Airport.\n",
      "        \n",
      "\n"
     ]
    }
   ],
   "source": [
    "print(example_travel_prompt.format(**FEW_SHOT_EXAMPLE[0]))"
   ]
  },
  {
   "cell_type": "code",
   "execution_count": null,
   "metadata": {},
   "outputs": [],
   "source": []
  }
 ],
 "metadata": {
  "kernelspec": {
   "display_name": "Python 3",
   "language": "python",
   "name": "python3"
  },
  "language_info": {
   "codemirror_mode": {
    "name": "ipython",
    "version": 3
   },
   "file_extension": ".py",
   "mimetype": "text/x-python",
   "name": "python",
   "nbconvert_exporter": "python",
   "pygments_lexer": "ipython3",
   "version": "3.11.4"
  }
 },
 "nbformat": 4,
 "nbformat_minor": 2
}
