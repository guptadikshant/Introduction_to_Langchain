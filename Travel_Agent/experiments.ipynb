{
 "cells": [
  {
   "cell_type": "code",
   "execution_count": 1,
   "metadata": {},
   "outputs": [],
   "source": [
    "import os\n",
    "from langchain_openai import OpenAI\n",
    "from langchain.memory.buffer import ConversationBufferMemory\n",
    "from langchain.prompts import PromptTemplate, FewShotPromptTemplate\n",
    "from langchain.chains.llm import LLMChain\n",
    "import streamlit as st\n",
    "from dotenv import load_dotenv, find_dotenv\n",
    "\n",
    "from constants import FEW_SHOT_EXAMPLE\n",
    "import warnings\n",
    "warnings.filterwarnings(\"ignore\")"
   ]
  },
  {
   "cell_type": "code",
   "execution_count": 2,
   "metadata": {},
   "outputs": [],
   "source": [
    "load_dotenv(find_dotenv())\n",
    "\n",
    "# load the API Key\n",
    "os.environ[\"OPENAI_API_KEY\"] = os.getenv(\"OPENAI_API_KEY\", \"\")"
   ]
  },
  {
   "cell_type": "code",
   "execution_count": 3,
   "metadata": {},
   "outputs": [],
   "source": [
    "# intialize the model\n",
    "llm_model = OpenAI(\n",
    "    model=\"gpt-3.5-turbo-instruct\",\n",
    "    temperature=0.3,\n",
    "    max_tokens=1500\n",
    ")\n",
    "\n",
    "# intialize the Memory\n",
    "memory = ConversationBufferMemory()\n",
    "\n",
    "# Intialize the Prompt example\n",
    "example_travel_prompt = PromptTemplate(\n",
    "    input_variables=[\"travel_query\", \"travel_response\"],\n",
    "    template=\"\"\"\n",
    "        You are a intelligent Travel Agent Advisor which helps to plan a trip for a customer from one destination to another.\n",
    "        Now based on the source and destination for which a person asked to plan a trip for him, you have to provide your response\n",
    "        in accurate, precise and point wise manner so that a customer easily understands the mode of transportation,\n",
    "        fare for each mode of transportation, flight number, cab number, buses number and suggest the alternate route/mode of transportation\n",
    "        if not present directly from source and destination. Your job is also not provide any incorrect or not feasible information which is\n",
    "        not important to customer. Analysis the request first step by step fully and then provide your response.\n",
    "        {travel_query} \\n {travel_response}\n",
    "\"\"\"\n",
    ")"
   ]
  },
  {
   "cell_type": "code",
   "execution_count": 4,
   "metadata": {},
   "outputs": [
    {
     "data": {
      "text/plain": [
       "[{'travel_query': 'Can you plan a trip from Shahdara, Delhi to London?',\n",
       "  'travel_response': \"\\n        Since this is a international travel request, let's understand the process of travelling from one country to another.\\n        First we have to book a flight which might have some layover in between and might be a direct flight.To book a flight you can \\n        use any of the online service provider. \\n        \\n        The layover options are: Gulf Air flight number GF 131, layover of 3hrs 25 mins at Bahrain and then to destination London-Heathrow Apt.\\n        Total  cost will be Rs. 28343 per person.\\n\\n        The direct options are: Vistra flight UK 17 has total cost Rs. 67225, British Airways BA 142 has total cost Rs. 69891\\n\\n        Now, to reach airport to pick the flight, we need to either travel via Cab/Metro/Train/Buses. The nearest Airport for delhi is Indira \\n        Gandhi International Airport (IGI)\\n        Now there are no direct Train which goes to Delhi's airport.\\n        So we have left with either Cab/Metro/Buses.\\n        \\n        The cab can be booked via Uber/Ola/Private Taxis. The fare will be Rs 600 to Rs 800 and will directly dropped to destination.\\n        \\n        The nearest metro station near Shahdara, Delhi is Shahadara Metro station. You have to change metro from Shahdara to Kashmere Gate then \\n        from Kashmere Gate to New Delhi and from New Delhi to Terminal-3 via Airport Metro line. This change of station is required because there\\n        is no direct metro from Shahdara, Delhi to Airport. Total cost is Rs. 45.\\n\\n        For buses you can make use of Delhi Transport Corporation(DTC) which only runs in Delhi NCR(National Capital Region).\\n        The buses run every 20 mins and some buses are 717, 717B. It is good you confirm first which bus run on your flight day.\\n        The cost of fare will Rs. 70 and will take 45 mins.        \\n        The nearest bus station is IFFCO Chowk which you can reach by Metro but you have first board from Shahdara and then from Shahdara to\\n        Kashmere gate then from Kashmere gate to IFFCO Chowk. But this route is completely opposite and will take lots of unnecessary time.\\n        This route will be suitable for those who lives near to IFFCO Chowk.\\n\\n        The most economical and convenient option is Metro if you have less luggage but if you have more luggage and more people, I suggest to go\\n        via Cab to Airport.\\n\\n        \"},\n",
       " {'travel_query': 'Plan a trip from South Goa to Gorakhpur, Uttarpradesh?',\n",
       "  'travel_response': \"\\n        Since this is a domestic travel request, let's understand the process of travelling from one city to another city. \\n        First we have to book the mode of transport which we need to travel from source to destination. It might be flight/train/cab/buses.\\n        But for this request there are no direct buses available from South Goa to Gorakhpur.\\n\\n        We need to suggest nearest Airport/Train Station to customer. If not available suggest the next nearest, and the way to reach there.\\n\\n        There are no direct flights from South Goa to Gorakhpur. \\n        IndiGo flight number 6E 744 will first fly from Goa to Hyderabad which has layover of 2hrs 40 mins and then from Hyderabad to Gorakhpur.\\n        The nearest airport from South Goa is GOI, Goa and nearest airport from Gorakhpur is GOP. The total cost will be Rs. 15624.\\n\\n        To reach GOI airport you can make use of Cabs which will cost around Rs. 2500. There are no Ola/Uber in Goa, so you have to use private\\n        cabs only.\\n\\n        For Train, you can book 04095-Madgaon Hazrat Nizamuddin Winter AC Special which starts from KRMI, Goa at 07:18 PM and reach\\n        to Basti Station at 12:32 AM. The journey has 20 stops and covers 1558 KM. Total cost will be between Rs. 1200 to Rs. 5500\\n\\n        \"},\n",
       " {'travel_query': 'Can you plan a trip from Juhu, Mumbai to New York, U.S.A.?',\n",
       "  'travel_response': '\\n        This is a international travel request.\\n        First we have to book a flight which might have some layover in between and might be a direct flight. \\n\\n        Emirates flight number Ek-509 from Chatrapati Shivaji Airport, Terminal-2, stops at Dubai International Airport \\n        for a layover of 9hrs 25 mins and then to John F Kennedy Airport, Terminal-4. Total cost Rs. 63264.\\n\\n        Air India flight number AI-119 departs from  Chatrapati Shivaji Airport, Terminal-2 and arrives directly at John F Kennedy Airport.\\n        Total cost will be Rs. 98406.\\n\\n        Nearest Airport from Juhu Beach is Chhatrapati Shivaji Maharaj International Airport. To reach there, we either need \\n        taxi/train/cab/buses/autos.\\n        Cabs can be booked from Uber/Ola having an average fare of Rs. 280. Autos will have Rs 21. \\n\\n        Nearest Metro station is Sakinaka which is 29 mins walk away. Cost would be Rs. 30\\n\\n        To travel from Juhu Beach to Chhatrapati Shivaji Maharaj International Airport, you can take a train from Vile Parle railway \\n        station to Santacruz Station, which takes approximately 34 minutes and operates every 30 minutes. \\n        Alternatively, you can take a bus from Mumbai CST to Juhu Beach, which costs $1 and takes 1h 9m. \\n        The nearest railway station to Juhu Beach is the Vile Parle railway station, which is about 3 km away. \\n        The Chhatrapati Shivaji Maharaj International Airport is only 2.8 Km away from the Vile Parle railway station, \\n        making it easy to find local transport options to cover the distance between the station and the airport.\\n\\n        \\n        '}]"
      ]
     },
     "execution_count": 4,
     "metadata": {},
     "output_type": "execute_result"
    }
   ],
   "source": [
    "FEW_SHOT_EXAMPLE"
   ]
  },
  {
   "cell_type": "code",
   "execution_count": 5,
   "metadata": {},
   "outputs": [
    {
     "name": "stdout",
     "output_type": "stream",
     "text": [
      "\n",
      "        You are a intelligent Travel Agent Advisor which helps to plan a trip for a customer from one destination to another.\n",
      "        Now based on the source and destination for which a person asked to plan a trip for him, you have to provide your response\n",
      "        in accurate, precise and point wise manner so that a customer easily understands the mode of transportation,\n",
      "        fare for each mode of transportation, flight number, cab number, buses number and suggest the alternate route/mode of transportation\n",
      "        if not present directly from source and destination. Your job is also not provide any incorrect or not feasible information which is\n",
      "        not important to customer. Analysis the request first step by step fully and then provide your response.\n",
      "        Can you plan a trip from Shahdara, Delhi to London? \n",
      " \n",
      "        Since this is a international travel request, let's understand the process of travelling from one country to another.\n",
      "        First we have to book a flight which might have some layover in between and might be a direct flight.To book a flight you can \n",
      "        use any of the online service provider. \n",
      "        \n",
      "        The layover options are: Gulf Air flight number GF 131, layover of 3hrs 25 mins at Bahrain and then to destination London-Heathrow Apt.\n",
      "        Total  cost will be Rs. 28343 per person.\n",
      "\n",
      "        The direct options are: Vistra flight UK 17 has total cost Rs. 67225, British Airways BA 142 has total cost Rs. 69891\n",
      "\n",
      "        Now, to reach airport to pick the flight, we need to either travel via Cab/Metro/Train/Buses. The nearest Airport for delhi is Indira \n",
      "        Gandhi International Airport (IGI)\n",
      "        Now there are no direct Train which goes to Delhi's airport.\n",
      "        So we have left with either Cab/Metro/Buses.\n",
      "        \n",
      "        The cab can be booked via Uber/Ola/Private Taxis. The fare will be Rs 600 to Rs 800 and will directly dropped to destination.\n",
      "        \n",
      "        The nearest metro station near Shahdara, Delhi is Shahadara Metro station. You have to change metro from Shahdara to Kashmere Gate then \n",
      "        from Kashmere Gate to New Delhi and from New Delhi to Terminal-3 via Airport Metro line. This change of station is required because there\n",
      "        is no direct metro from Shahdara, Delhi to Airport. Total cost is Rs. 45.\n",
      "\n",
      "        For buses you can make use of Delhi Transport Corporation(DTC) which only runs in Delhi NCR(National Capital Region).\n",
      "        The buses run every 20 mins and some buses are 717, 717B. It is good you confirm first which bus run on your flight day.\n",
      "        The cost of fare will Rs. 70 and will take 45 mins.        \n",
      "        The nearest bus station is IFFCO Chowk which you can reach by Metro but you have first board from Shahdara and then from Shahdara to\n",
      "        Kashmere gate then from Kashmere gate to IFFCO Chowk. But this route is completely opposite and will take lots of unnecessary time.\n",
      "        This route will be suitable for those who lives near to IFFCO Chowk.\n",
      "\n",
      "        The most economical and convenient option is Metro if you have less luggage but if you have more luggage and more people, I suggest to go\n",
      "        via Cab to Airport.\n",
      "\n",
      "        \n",
      "\n"
     ]
    }
   ],
   "source": [
    "print(example_travel_prompt.format(**FEW_SHOT_EXAMPLE[0]))"
   ]
  },
  {
   "cell_type": "code",
   "execution_count": 6,
   "metadata": {},
   "outputs": [],
   "source": [
    "# Intialize few short template with examples\n",
    "few_shot_prompt = FewShotPromptTemplate(\n",
    "    examples=FEW_SHOT_EXAMPLE,\n",
    "    example_prompt=example_travel_prompt,\n",
    "    suffix=\"Travel Query: {travel_query}\",\n",
    "    input_variables=[\"travel_query\", \"travel_response\"]\n",
    ")"
   ]
  },
  {
   "cell_type": "code",
   "execution_count": 9,
   "metadata": {},
   "outputs": [],
   "source": [
    "# Created a LLM chain to run the model\n",
    "travel_chain = LLMChain(\n",
    "    llm=llm_model,\n",
    "    memory=memory,\n",
    "    prompt=few_shot_prompt\n",
    ")"
   ]
  },
  {
   "cell_type": "code",
   "execution_count": 10,
   "metadata": {},
   "outputs": [
    {
     "name": "stdout",
     "output_type": "stream",
     "text": [
      "\n",
      "\n",
      "Since this is a domestic travel request, let's understand the process of travelling from one city to another city. \n",
      "First we have to book the mode of transport which we need to travel from source to destination. It might be flight/train/cab/buses.\n",
      "\n",
      "There are no direct flights from Hauz Khas to Goa. \n",
      "IndiGo flight number 6E 744 will first fly from Delhi to Mumbai which has layover of 1hr 20 mins and then from Mumbai to Goa.\n",
      "The nearest airport from Hauz Khas is DEL, Delhi and nearest airport from Goa is GOI. The total cost will be Rs. 9000.\n",
      "\n",
      "To reach DEL airport you can make use of Cabs which will cost around Rs. 500. You can also take a metro from Hauz Khas Metro Station to\n",
      "New Delhi Metro Station and then take Airport Express Line to reach DEL airport. The total cost will be Rs. 60.\n",
      "\n",
      "For Train, you can book 22633 - Nizamuddin Express which starts from Hauz Khas at 05:50 PM and reach to Madgaon Station at 07:20 AM.\n",
      "The journey has 13 stops and covers 1875 KM. Total cost will be between Rs. 1500 to Rs. 6000.\n",
      "\n",
      "For buses, you can make use of Delhi Transport Corporation(DTC) which runs in Delhi NCR(National Capital Region).\n",
      "The buses run every 20 mins and some buses are 717, 717B. It is good you confirm first which bus run on your travel day.\n",
      "The cost of fare will Rs. 1000 and will take 30 hours. The nearest bus station is Mapusa Bus Stand, Goa. You can reach there by taking a\n",
      "cab from Goa airport or by taking a local bus.\n"
     ]
    }
   ],
   "source": [
    "print(travel_chain.invoke({\"travel_query\":\"Plan a trip from Hauz Khas, Delhi to Goa?\"})[\"text\"])"
   ]
  },
  {
   "cell_type": "code",
   "execution_count": 11,
   "metadata": {},
   "outputs": [
    {
     "name": "stdout",
     "output_type": "stream",
     "text": [
      "\n",
      "\n",
      "This is an international travel request.\n",
      "First we have to book a flight which might have some layover in between and might be a direct flight. \n",
      "\n",
      "Emirates flight number Ek-204 from John F Kennedy Airport, Terminal-4, stops at Dubai International Airport for a layover of 3hrs 55 mins \n",
      "and then to Kempegowda International Airport, Bengaluru. Total cost Rs. 61869.\n",
      "\n",
      "Air India flight number AI-102 departs from John F Kennedy Airport, Terminal-4 and arrives directly at Kempegowda International Airport.\n",
      "Total cost will be Rs. 64197.\n",
      "\n",
      "Nearest Airport from New York is John F Kennedy Airport. To reach there, we either need taxi/train/cab/buses/autos.\n",
      "Cabs can be booked from Uber/Ola having an average fare of $60. Autos will have $7. \n",
      "\n",
      "Nearest Metro station is Jamaica Station which is 23 mins drive away. Cost would be $2.75.\n",
      "\n",
      "To travel from New York to John F Kennedy Airport, you can take a train from Penn Station to Jamaica Station, which takes approximately \n",
      "20 minutes and operates every 10 minutes. Alternatively, you can take a bus from 5 Av/W 36 St to JFK Terminal 4, which costs $2 and takes 1h 9m. \n",
      "The nearest railway station to New York is the Penn Station, which is about 2.5 km away. \n",
      "The John F Kennedy Airport is only 24 km away from the Penn Station, making it easy to find local transport options to cover the distance \n",
      "between the station and the airport.\n"
     ]
    }
   ],
   "source": [
    "print(travel_chain.invoke({\"travel_query\":\"Plan a trip from New York to bangalore?\"})[\"text\"])"
   ]
  },
  {
   "cell_type": "code",
   "execution_count": 13,
   "metadata": {},
   "outputs": [
    {
     "name": "stdout",
     "output_type": "stream",
     "text": [
      "\n",
      "\n",
      "Since this is a domestic travel request, let's understand the process of travelling from one city to another city. \n",
      "First we have to book the mode of transport which we need to travel from source to destination. It might be flight/train/cab/buses.\n",
      "\n",
      "For this request, the most convenient and economical option is to travel by Metro. The nearest metro station to Shivaji Park is Rajiv Chowk \n",
      "which is 4.5 km away. From Rajiv Chowk, you can take the Yellow Line towards Huda City Centre and get down at Saket Metro Station. \n",
      "The total cost will be Rs. 30 and the journey will take approximately 30 minutes.\n",
      "\n",
      "If you prefer to travel by cab, you can book a cab from Uber/Ola or any other private taxi service. The fare will be around Rs. 150-200 \n",
      "and the journey will take approximately 45 minutes depending on the traffic.\n",
      "\n",
      "For buses, you can make use of Delhi Transport Corporation (DTC) buses which run within Delhi NCR. The nearest bus stop to Shivaji Park is \n",
      "Shivaji Stadium Bus Stop. From there, you can take a bus towards Saket and get down at Saket Bus Stop. The cost will be Rs. 20 and the \n",
      "journey will take approximately 1 hour.\n",
      "\n",
      "In case you have heavy luggage, it is recommended to travel by cab. However, if you prefer to save money, then Metro or buses can be \n",
      "convenient options. \n"
     ]
    }
   ],
   "source": [
    "print(travel_chain.invoke({\"travel_query\": \"Plan a trip from Shivaji park, Delhi to Saket, Delhi?\"})[\"text\"])"
   ]
  },
  {
   "cell_type": "code",
   "execution_count": 18,
   "metadata": {},
   "outputs": [
    {
     "name": "stdout",
     "output_type": "stream",
     "text": [
      "\n",
      "\n",
      "Since this is a domestic travel request, let's understand the process of travelling from one city to another city. \n",
      "First we have to book the mode of transport which we need to travel from source to destination. It might be flight/train/cab/buses.\n",
      "\n",
      "For this request, the best mode of transportation would be a flight. The nearest airport to Panchkula, Haryana is Chandigarh Airport (IXC)\n",
      "and the nearest airport to Kashmir is Srinagar Airport (SXR). There are no direct flights available from Chandigarh Airport to Srinagar Airport.\n",
      "However, there are connecting flights with layovers.\n",
      "\n",
      "The options for connecting flights are:\n",
      "\n",
      "1. Air India flight AI 9836 from Chandigarh to Delhi, with a layover of 2 hours and then connecting flight AI 825 from Delhi to Srinagar.\n",
      "Total cost would be around Rs. 11,000 to Rs. 15,000.\n",
      "\n",
      "2. IndiGo flight 6E 251 from Chandigarh to Delhi, with a layover of 2 hours and then connecting flight 6E 555 from Delhi to Srinagar.\n",
      "Total cost would be around Rs. 10,000 to Rs. 13,000.\n",
      "\n",
      "To reach Chandigarh Airport, you can take a taxi or cab which would cost around Rs. 500 to Rs. 700. Alternatively, you can also take a\n",
      "bus from Panchkula to Chandigarh and then take a taxi from Chandigarh to the airport.\n",
      "\n",
      "For train options, you can take a train from Chandigarh Railway Station to Jammu Tawi Railway Station, which would take around 7-8 hours.\n",
      "From Jammu Tawi, you can take a taxi or cab to reach Kashmir, which would take around 5-6 hours. Total cost would be around Rs. 5000 to Rs. 7000.\n",
      "\n",
      "In case of buses, there are no direct buses available from Panchkula to Kashmir. You can take a bus from Panchkula to Chandigarh and then\n",
      "take another bus from Chandigarh to Jammu. From Jammu, you can take a taxi or cab to reach Kashmir. Total cost would be around Rs. 2000 to Rs. 3000.\n",
      "\n",
      "In conclusion, the best and most convenient mode of transportation for this trip would be a flight. However, if you are on a budget, you can\n",
      "also consider taking a train or bus.\n"
     ]
    }
   ],
   "source": [
    "print(travel_chain.invoke({\"travel_query\":\"Plan a trip from panchkula, harayana to Kashmir?\"})[\"text\"])"
   ]
  },
  {
   "cell_type": "code",
   "execution_count": 16,
   "metadata": {},
   "outputs": [
    {
     "name": "stdout",
     "output_type": "stream",
     "text": [
      "\n",
      "\n",
      "Since this is a domestic travel request, let's understand the process of travelling from one city to another city. \n",
      "First we have to book the mode of transport which we need to travel from source to destination. It might be flight/train/cab/buses.\n",
      "\n",
      "There are no direct flights available from Jamshedpur to Rishikesh. The nearest airport from Jamshedpur is Sonari Airport (IXW) and \n",
      "the nearest airport from Rishikesh is Jolly Grant Airport (DED).\n",
      "\n",
      "To reach Sonari Airport, you can take a cab which will cost around Rs. 600 to Rs. 800. Alternatively, you can also take a bus from \n",
      "Jamshedpur to Ranchi and then from Ranchi to Dehradun. From Dehradun, you can take a cab to reach Rishikesh.\n",
      "\n",
      "For train, you can book a ticket on the Howrah-Dehradun Express (13009) which will take you from Tatanagar Junction (TATA) to \n",
      "Dehradun Railway Station (DDN). The journey takes approximately 24 hours and the cost ranges from Rs. 500 to Rs. 1500.\n",
      "\n",
      "For buses, you can take a bus from Jamshedpur to Ranchi and then from Ranchi to Dehradun. From Dehradun, you can take a local bus \n",
      "or cab to reach Rishikesh. The total cost for this option will be around Rs. 1000 to Rs. 1500.\n",
      "\n",
      "The most convenient and time-saving option would be to book a cab directly from Jamshedpur to Rishikesh. This will cost around \n",
      "Rs. 8000 to Rs. 10000 depending on the type of cab and the number of people travelling.\n"
     ]
    }
   ],
   "source": [
    "print(travel_chain.invoke({\"travel_query\": \"Trip from Jamshedpur, Jharkhand to Rishikesh, Uttarkand?\"})[\"text\"])"
   ]
  },
  {
   "cell_type": "code",
   "execution_count": 23,
   "metadata": {},
   "outputs": [
    {
     "name": "stdout",
     "output_type": "stream",
     "text": [
      "\n",
      "\n",
      "Since this is an international travel request, let's understand the process of travelling from one country to another.\n",
      "First we have to book a flight which might have some layover in between and might be a direct flight. \n",
      "\n",
      "To book a flight you can use any of the online service provider. \n",
      "The layover options are: Air India flight number AI-981, layover of 2hrs 40 mins at New Delhi and then to destination Hanoi, Vietnam.\n",
      "Total cost will be Rs. 27,000 per person.\n",
      "\n",
      "The direct options are: Vietnam Airlines flight VN-194 has total cost Rs. 40,000, Jet Airways flight 9W-690 has total cost Rs. 42,000.\n",
      "\n",
      "Now, to reach airport to pick the flight, we need to either travel via Cab/Bus. The nearest Airport for Manali is Bhuntar Airport.\n",
      "There are no direct buses from Manali to Bhuntar Airport, so we have to take a cab which will cost around Rs. 1000 to Rs. 1500.\n",
      "\n",
      "The nearest bus station to Manali is Manali Bus Stand. From there, you can take a bus to Kullu Bus Stand and then from Kullu Bus Stand\n",
      "to Bhuntar Airport. The total cost will be Rs. 100 to Rs. 200 and will take approximately 2 hours.\n",
      "\n",
      "For alternate mode of transportation, you can also take a train from Chandigarh Railway Station to New Delhi Railway Station and then\n",
      "from New Delhi Railway Station to Indira Gandhi International Airport via Airport Metro line. The total cost will be approximately Rs. 1000.\n"
     ]
    }
   ],
   "source": [
    "print(travel_chain.invoke({\"travel_query\": \"Trip from Manali to Vietnam?\"})[\"text\"])"
   ]
  },
  {
   "cell_type": "code",
   "execution_count": null,
   "metadata": {},
   "outputs": [],
   "source": []
  }
 ],
 "metadata": {
  "kernelspec": {
   "display_name": "Python 3 (ipykernel)",
   "language": "python",
   "name": "python3"
  },
  "language_info": {
   "codemirror_mode": {
    "name": "ipython",
    "version": 3
   },
   "file_extension": ".py",
   "mimetype": "text/x-python",
   "name": "python",
   "nbconvert_exporter": "python",
   "pygments_lexer": "ipython3",
   "version": "3.11.4"
  }
 },
 "nbformat": 4,
 "nbformat_minor": 4
}
