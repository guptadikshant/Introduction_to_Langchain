{
 "cells": [
  {
   "cell_type": "code",
   "execution_count": 44,
   "id": "a7312e31-085a-4744-bc65-aa61ed7393da",
   "metadata": {},
   "outputs": [],
   "source": [
    "import os\n",
    "from langchain_google_genai.llms import GoogleGenerativeAI\n",
    "from langchain_core.prompts import PromptTemplate, FewShotPromptTemplate\n",
    "from langchain_core.runnables.passthrough import RunnablePassthrough\n",
    "from langchain.memory.buffer import ConversationBufferMemory\n",
    "from dotenv import load_dotenv, find_dotenv"
   ]
  },
  {
   "cell_type": "code",
   "execution_count": 45,
   "id": "52bea40b-e375-479c-ac07-c22981bba87a",
   "metadata": {},
   "outputs": [
    {
     "data": {
      "text/plain": [
       "True"
      ]
     },
     "execution_count": 45,
     "metadata": {},
     "output_type": "execute_result"
    }
   ],
   "source": [
    "load_dotenv(find_dotenv())"
   ]
  },
  {
   "cell_type": "code",
   "execution_count": 47,
   "id": "dc91ca42-043b-49bc-96de-f2603e43e90b",
   "metadata": {},
   "outputs": [],
   "source": [
    "os.environ[\"LANGCHAIN_TRACING_V2\"] = \"true\"\n",
    "os.environ[\"LANGCHAIN_API_KEY\"] = os.getenv(\"LANGCHAIN_API_KEY\")"
   ]
  },
  {
   "cell_type": "code",
   "execution_count": 48,
   "id": "feccd606-d934-477b-ab01-c825bbf0e5b7",
   "metadata": {},
   "outputs": [],
   "source": [
    "EXAMPLES = [\n",
    "    {\n",
    "        \"query\": \"Product build for consumers which involes of processing of personal data\",\n",
    "        \"answer\": \"Data security and Privacy rights.\",\n",
    "        \"explanation\": \"\"\"\n",
    "        Since personal data being collected, people have the right to know how we are collecting their personal data and how long we are gonna store it. \n",
    "        We also need to make sure proper measures are in place to protect their data and we have proper encrpytion in place\n",
    "        \"\"\"\n",
    "    },\n",
    "    {\n",
    "        \"query\": \"Product which requires collection of personal data and sends to third parties.\",\n",
    "        \"answer\": \"Data security, Privacy rights, Lawful basis and transparency and Accountability and governance\",\n",
    "        \"explanation\": \"\"\"\n",
    "        Application collects personal data, so we need to follow privacy rights guideline as people has the right to know that \n",
    "        their personal data is collected by the application and we need to make measure to encrpyt the data and protect it, which requires us to follow             Data Security guideline. Lawful basis and transparency is required as we have to make sure who has access to this data and what information \n",
    "        we are processing and provide justification for it. To make sure GDPR compilance is following we need to appoint a person in \n",
    "        organisation and sign a aggrement between our organisation and third party which require us to follow Accountability and governance guideline.\n",
    "        \"\"\"\n",
    "    }\n",
    "]"
   ]
  },
  {
   "cell_type": "code",
   "execution_count": 49,
   "id": "bf7a7778-8f9f-42b0-be76-0f42f928c84b",
   "metadata": {},
   "outputs": [],
   "source": [
    "prompt = PromptTemplate(\n",
    "    template=\"\"\"\n",
    "    Role: An Expert in General Data Protection Regulation (GDPR)  guidelines which tells which guideline(s) to follow when building an application or           product.\n",
    "    Instructions: Answer user query which guide line to follow. Take help from provided examples and don't make up any answer from your side. First             completely analyse the question and properly think befor giving answer and only provide guideline name(s).\n",
    "    Question: {query}\n",
    "    Answer: {answer}\n",
    "    Explanation: {explanation}\n",
    "    \"\"\",\n",
    "    input_variables=[\"query\", \"answer\", \"explanation\"]\n",
    ")"
   ]
  },
  {
   "cell_type": "code",
   "execution_count": 50,
   "id": "c93ff019-053d-4060-bce6-6607cc2ecea6",
   "metadata": {},
   "outputs": [],
   "source": [
    "few_shot_template = FewShotPromptTemplate(\n",
    "    examples=EXAMPLES,\n",
    "    example_prompt=prompt,\n",
    "    suffix=\"Question: {query}\",\n",
    "    input_variables=[\"query\"]\n",
    ")"
   ]
  },
  {
   "cell_type": "code",
   "execution_count": 51,
   "id": "a21c52c7-b303-4549-bcdf-3a17d05518b8",
   "metadata": {
    "scrolled": true
   },
   "outputs": [
    {
     "name": "stdout",
     "output_type": "stream",
     "text": [
      "\n",
      "    Role: An Expert in General Data Protection Regulation (GDPR)  guidelines which tells which guideline(s) to follow when building an application or           product.\n",
      "    Instructions: Answer user query which guide line to follow. Take help from provided examples and don't make up any answer from your side. First             completely analyse the question and properly think befor giving answer and only provide guideline name(s).\n",
      "    Question: Product build for consumers which involes of processing of personal data\n",
      "    Answer: Data security and Privacy rights.\n",
      "    Explanation: \n",
      "        Since personal data being collected, people have the right to know how we are collecting their personal data and how long we are gonna store it. \n",
      "        We also need to make sure proper measures are in place to protect their data and we have proper encrpytion in place\n",
      "        \n",
      "    \n",
      "\n",
      "\n",
      "    Role: An Expert in General Data Protection Regulation (GDPR)  guidelines which tells which guideline(s) to follow when building an application or           product.\n",
      "    Instructions: Answer user query which guide line to follow. Take help from provided examples and don't make up any answer from your side. First             completely analyse the question and properly think befor giving answer and only provide guideline name(s).\n",
      "    Question: Product which requires collection of personal data and sends to third parties.\n",
      "    Answer: Data security, Privacy rights, Lawful basis and transparency and Accountability and governance\n",
      "    Explanation: \n",
      "        Application collects personal data, so we need to follow privacy rights guideline as people has the right to know that \n",
      "        their personal data is collected by the application and we need to make measure to encrpyt the data and protect it, which requires us to follow             Data Security guideline. Lawful basis and transparency is required as we have to make sure who has access to this data and what information \n",
      "        we are processing and provide justification for it. To make sure GDPR compilance is following we need to appoint a person in \n",
      "        organisation and sign a aggrement between our organisation and third party which require us to follow Accountability and governance guideline.\n",
      "        \n",
      "    \n",
      "\n",
      "Question: Ask any question\n"
     ]
    }
   ],
   "source": [
    "print(few_shot_template.format(query=\"Ask any question\"))"
   ]
  },
  {
   "cell_type": "code",
   "execution_count": 52,
   "id": "68e60102-5484-4bc2-9f60-5efaafd144ed",
   "metadata": {},
   "outputs": [],
   "source": [
    "google_llm = GoogleGenerativeAI(model=\"gemini-1.5-pro-latest\", temperature=0.4)"
   ]
  },
  {
   "cell_type": "code",
   "execution_count": 53,
   "id": "8a7356c9-6cc8-49a1-8e3b-98ed75235528",
   "metadata": {},
   "outputs": [],
   "source": [
    "chain = (\n",
    "    {\"query\": RunnablePassthrough()}\n",
    "    | few_shot_template\n",
    "    | google_llm\n",
    ")"
   ]
  },
  {
   "cell_type": "code",
   "execution_count": 54,
   "id": "14f59f8a-687a-4141-a733-8f4514d539cb",
   "metadata": {},
   "outputs": [
    {
     "name": "stdout",
     "output_type": "stream",
     "text": [
      "Answer: Data security, Privacy rights, Lawful basis and transparency \n",
      "\n"
     ]
    }
   ],
   "source": [
    "ans = chain.invoke(\n",
    "    \"\"\"\n",
    "    We are building an online book store through which person can order book. For that we collect \n",
    "    personal information like person's name, address, phone number. Let me know which GDPR guidelines I need to follow?\n",
    "    \"\"\"\n",
    ")\n",
    "\n",
    "print(ans)"
   ]
  },
  {
   "cell_type": "code",
   "execution_count": 55,
   "id": "83395289-5acb-49a4-88b2-7b9e05f2b6cc",
   "metadata": {},
   "outputs": [
    {
     "name": "stdout",
     "output_type": "stream",
     "text": [
      "Answer: Data security, Privacy rights, Lawful basis and transparency, Accountability and governance, Contracts and data sharing. \n",
      "\n"
     ]
    }
   ],
   "source": [
    "result = chain.invoke(\n",
    "    \"\"\"\n",
    "    A product which collects personal information like person's name, address, phone number and sends to third party for data processing.    \n",
    "    Suggest the guideline names which I need to follow?\n",
    "    \"\"\"\n",
    ")\n",
    "\n",
    "print(result)"
   ]
  },
  {
   "cell_type": "code",
   "execution_count": 56,
   "id": "cff7416b-e647-421c-bc02-8893aae66f4e",
   "metadata": {},
   "outputs": [
    {
     "name": "stdout",
     "output_type": "stream",
     "text": [
      "Answer: Accountability and governance, Data security, Lawful basis and transparency. \n",
      "\n"
     ]
    }
   ],
   "source": [
    "res = chain.invoke(\n",
    "    \"\"\"\n",
    "    A product which involves third party for data processing.Name the GDPR guidelines which I need to follow?\n",
    "    \"\"\"\n",
    ")\n",
    "\n",
    "print(res)"
   ]
  },
  {
   "cell_type": "code",
   "execution_count": null,
   "id": "7c947141-75d9-404d-b818-9f6e323e7008",
   "metadata": {},
   "outputs": [],
   "source": []
  }
 ],
 "metadata": {
  "kernelspec": {
   "display_name": "Python 3 (ipykernel)",
   "language": "python",
   "name": "python3"
  },
  "language_info": {
   "codemirror_mode": {
    "name": "ipython",
    "version": 3
   },
   "file_extension": ".py",
   "mimetype": "text/x-python",
   "name": "python",
   "nbconvert_exporter": "python",
   "pygments_lexer": "ipython3",
   "version": "3.11.4"
  }
 },
 "nbformat": 4,
 "nbformat_minor": 5
}
