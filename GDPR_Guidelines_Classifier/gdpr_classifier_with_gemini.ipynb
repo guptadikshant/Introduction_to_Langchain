{
 "cells": [
  {
   "cell_type": "code",
   "execution_count": 1,
   "id": "a7312e31-085a-4744-bc65-aa61ed7393da",
   "metadata": {},
   "outputs": [],
   "source": [
    "import os\n",
    "from langchain_google_genai.llms import GoogleGenerativeAI\n",
    "from langchain_core.prompts import PromptTemplate, FewShotPromptTemplate\n",
    "from langchain_core.runnables.passthrough import RunnablePassthrough\n",
    "from langchain.memory.buffer import ConversationBufferMemory\n",
    "from dotenv import load_dotenv, find_dotenv"
   ]
  },
  {
   "cell_type": "code",
   "execution_count": 2,
   "id": "52bea40b-e375-479c-ac07-c22981bba87a",
   "metadata": {},
   "outputs": [
    {
     "data": {
      "text/plain": [
       "True"
      ]
     },
     "execution_count": 2,
     "metadata": {},
     "output_type": "execute_result"
    }
   ],
   "source": [
    "load_dotenv(find_dotenv())"
   ]
  },
  {
   "cell_type": "code",
   "execution_count": 3,
   "id": "dc91ca42-043b-49bc-96de-f2603e43e90b",
   "metadata": {},
   "outputs": [],
   "source": [
    "os.environ[\"LANGCHAIN_TRACING_V2\"] = \"true\"\n",
    "os.environ[\"LANGCHAIN_API_KEY\"] = os.getenv(\"LANGCHAIN_API_KEY\", \"\")"
   ]
  },
  {
   "cell_type": "code",
   "execution_count": 17,
   "id": "feccd606-d934-477b-ab01-c825bbf0e5b7",
   "metadata": {},
   "outputs": [],
   "source": [
    "EXAMPLES = [\n",
    "    {\n",
    "        \"query\": \"Product build for consumers which needs collection of personal data of the user.\",\n",
    "        \"answer\": \"Data security and Privacy rights.\",\n",
    "        \"explanation\": \"\"\"\n",
    "          As collection of personal data is there and security of data is require we need Privacy Rights and Data Security GDPR guidelies.\n",
    "        \"\"\"\n",
    "    },\n",
    "    {\n",
    "        \"query\": \"Product which requires collection of personal data and sends to third parties.\",\n",
    "        \"answer\": \"Data security, Privacy rights, Lawful basis and transparency, and Accountability and governance\",\n",
    "        \"explanation\": \"\"\"\n",
    "        In collection of personal data and security of collected data, Privacy Rights and Data Security guidelines is needed. As it \n",
    "        also sends to third party we need to follow Lawful basis and transparency, and Accountability and governance to make a agreement \n",
    "        between third parties and our organisation and a person to oversee it.\n",
    "        \"\"\"\n",
    "    }\n",
    "]"
   ]
  },
  {
   "cell_type": "code",
   "execution_count": 18,
   "id": "bf7a7778-8f9f-42b0-be76-0f42f928c84b",
   "metadata": {},
   "outputs": [],
   "source": [
    "prompt = PromptTemplate(\n",
    "    template=\"\"\"\n",
    "    Role: You are an Expert in General Data Protection Regulation (GDPR) guidelines which tells which guideline(s) \n",
    "          to follow when building an application or product.\n",
    "    Instructions: Answer user's query and outputs which guide line to follow. Take help from provided examples and \n",
    "    don't make up any answer from your side. First completely analyse the question which is in backticks and its associated\n",
    "    answer and explanation in <> brackets. Properly think from your side before giving answers and only provide guideline name(s) in below format\n",
    "    GuideLines: \n",
    "\n",
    "\n",
    "    \n",
    "    Question: ``` {query} ```\n",
    "    Answer: < {answer} >\n",
    "    Explanation: < {explanation} >\n",
    "    \"\"\",\n",
    "    input_variables=[\"query\", \"answer\", \"explanation\"]\n",
    ")"
   ]
  },
  {
   "cell_type": "code",
   "execution_count": 19,
   "id": "c93ff019-053d-4060-bce6-6607cc2ecea6",
   "metadata": {},
   "outputs": [],
   "source": [
    "few_shot_template = FewShotPromptTemplate(\n",
    "    examples=EXAMPLES,\n",
    "    example_prompt=prompt,\n",
    "    suffix=\"Question: {query}\",\n",
    "    input_variables=[\"query\"]\n",
    ")"
   ]
  },
  {
   "cell_type": "code",
   "execution_count": 20,
   "id": "a21c52c7-b303-4549-bcdf-3a17d05518b8",
   "metadata": {
    "scrolled": true
   },
   "outputs": [
    {
     "name": "stdout",
     "output_type": "stream",
     "text": [
      "\n",
      "    Role: You are an Expert in General Data Protection Regulation (GDPR) guidelines which tells which guideline(s) \n",
      "          to follow when building an application or product.\n",
      "    Instructions: Answer user's query and outputs which guide line to follow. Take help from provided examples and \n",
      "    don't make up any answer from your side. First completely analyse the question which is in backticks and its associated\n",
      "    answer and explanation in <> brackets. Properly think from your side before giving answers and only provide guideline name(s) in below format\n",
      "    GuideLines: \n",
      "\n",
      "\n",
      "    \n",
      "    Question: ``` Product build for consumers which needs collection of personal data of the user. ```\n",
      "    Answer: < Data security and Privacy rights. >\n",
      "    Explanation: < \n",
      "          As collection of personal data is there and security of data is require we need Privacy Rights and Data Security GDPR guidelies.\n",
      "         >\n",
      "    \n",
      "\n",
      "\n",
      "    Role: You are an Expert in General Data Protection Regulation (GDPR) guidelines which tells which guideline(s) \n",
      "          to follow when building an application or product.\n",
      "    Instructions: Answer user's query and outputs which guide line to follow. Take help from provided examples and \n",
      "    don't make up any answer from your side. First completely analyse the question which is in backticks and its associated\n",
      "    answer and explanation in <> brackets. Properly think from your side before giving answers and only provide guideline name(s) in below format\n",
      "    GuideLines: \n",
      "\n",
      "\n",
      "    \n",
      "    Question: ``` Product which requires collection of personal data and sends to third parties. ```\n",
      "    Answer: < Data security, Privacy rights, Lawful basis and transparency, and Accountability and governance >\n",
      "    Explanation: < \n",
      "        In collection of personal data and security of collected data, Privacy Rights and Data Security guidelines is needed. As it \n",
      "        also sends to third party we need to follow Lawful basis and transparency, and Accountability and governance to make a agreement \n",
      "        between third parties and our organisation and a person to oversee it.\n",
      "         >\n",
      "    \n",
      "\n",
      "Question: Ask any question\n"
     ]
    }
   ],
   "source": [
    "print(few_shot_template.format(query=\"Ask any question\"))"
   ]
  },
  {
   "cell_type": "code",
   "execution_count": 21,
   "id": "68e60102-5484-4bc2-9f60-5efaafd144ed",
   "metadata": {},
   "outputs": [],
   "source": [
    "google_llm = GoogleGenerativeAI(\n",
    "    model=\"gemini-1.5-pro-latest\", \n",
    "    temperature=0.3\n",
    ")"
   ]
  },
  {
   "cell_type": "code",
   "execution_count": 22,
   "id": "8a7356c9-6cc8-49a1-8e3b-98ed75235528",
   "metadata": {},
   "outputs": [],
   "source": [
    "chain = (\n",
    "    {\"query\": RunnablePassthrough()}\n",
    "    | few_shot_template\n",
    "    | google_llm\n",
    ")"
   ]
  },
  {
   "cell_type": "code",
   "execution_count": 23,
   "id": "14f59f8a-687a-4141-a733-8f4514d539cb",
   "metadata": {},
   "outputs": [
    {
     "name": "stdout",
     "output_type": "stream",
     "text": [
      "GuideLines: Data security, Privacy rights, Lawful basis and transparency \n",
      "\n"
     ]
    }
   ],
   "source": [
    "ans = chain.invoke(\n",
    "    \"\"\"\n",
    "    We are building an online book store through which person can order book. For that we collect \n",
    "    personal information like person's name, address, phone number. Let me know which GDPR guidelines I need to follow?\n",
    "    \"\"\"\n",
    ")\n",
    "\n",
    "print(ans)"
   ]
  },
  {
   "cell_type": "code",
   "execution_count": 24,
   "id": "83395289-5acb-49a4-88b2-7b9e05f2b6cc",
   "metadata": {},
   "outputs": [
    {
     "name": "stdout",
     "output_type": "stream",
     "text": [
      "GuideLines: \n",
      "Data security, Privacy rights, Lawful basis and transparency, and Accountability and governance \n",
      "\n"
     ]
    }
   ],
   "source": [
    "result = chain.invoke(\n",
    "    \"\"\"\n",
    "    A product which collects personal information like person's name, address, phone number and sends to third party for data processing.    \n",
    "    Suggest the guideline names which I need to follow?\n",
    "    \"\"\"\n",
    ")\n",
    "\n",
    "print(result)"
   ]
  },
  {
   "cell_type": "code",
   "execution_count": 25,
   "id": "cff7416b-e647-421c-bc02-8893aae66f4e",
   "metadata": {},
   "outputs": [
    {
     "name": "stdout",
     "output_type": "stream",
     "text": [
      "GuideLines: Data security, Privacy rights \n",
      "\n"
     ]
    }
   ],
   "source": [
    "res = chain.invoke(\n",
    "    \"\"\"\n",
    "    A web application which needs some general data and store it on its server. Which GDPR guidelines I need here?\n",
    "    \"\"\"\n",
    ")\n",
    "\n",
    "print(res)"
   ]
  },
  {
   "cell_type": "code",
   "execution_count": 26,
   "id": "7c947141-75d9-404d-b818-9f6e323e7008",
   "metadata": {},
   "outputs": [
    {
     "name": "stdout",
     "output_type": "stream",
     "text": [
      "GuideLines: \n",
      "Data security, Accountability and governance \n",
      "\n"
     ]
    }
   ],
   "source": [
    "res1 = chain.invoke(\n",
    "    \"\"\"\n",
    "    A web application hosted on some third party cloud service and stores the data. Tell me which GDPR guidelines are needed here?\n",
    "    \"\"\"\n",
    ")\n",
    "\n",
    "print(res1)"
   ]
  },
  {
   "cell_type": "code",
   "execution_count": 28,
   "id": "d2842297-64c2-4d65-99ec-b8898a658ebe",
   "metadata": {},
   "outputs": [
    {
     "name": "stdout",
     "output_type": "stream",
     "text": [
      "GuideLines: Data security, Privacy rights, Lawful basis and transparency, and Accountability and governance \n",
      "\n"
     ]
    }
   ],
   "source": [
    "res2 = chain.invoke(\n",
    "    \"\"\"\n",
    "    A backend application which makes API calls to get the personal data and process it on third party cloud service\n",
    "    but doesn't store it. Tell me which GDPR guidelines are needed here?\n",
    "    \"\"\"\n",
    ")\n",
    "\n",
    "print(res2)"
   ]
  },
  {
   "cell_type": "code",
   "execution_count": null,
   "id": "8e10127c-0fff-4022-b1bc-af58f9865f02",
   "metadata": {},
   "outputs": [],
   "source": []
  },
  {
   "cell_type": "code",
   "execution_count": null,
   "id": "d38c200d-83ec-44ff-a8bf-acb264d9d866",
   "metadata": {},
   "outputs": [],
   "source": []
  }
 ],
 "metadata": {
  "kernelspec": {
   "display_name": "Python 3 (ipykernel)",
   "language": "python",
   "name": "python3"
  },
  "language_info": {
   "codemirror_mode": {
    "name": "ipython",
    "version": 3
   },
   "file_extension": ".py",
   "mimetype": "text/x-python",
   "name": "python",
   "nbconvert_exporter": "python",
   "pygments_lexer": "ipython3",
   "version": "3.11.4"
  }
 },
 "nbformat": 4,
 "nbformat_minor": 5
}
