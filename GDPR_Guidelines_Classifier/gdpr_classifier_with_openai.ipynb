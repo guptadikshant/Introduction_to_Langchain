{
 "cells": [
  {
   "cell_type": "code",
   "execution_count": 1,
   "id": "a7312e31-085a-4744-bc65-aa61ed7393da",
   "metadata": {},
   "outputs": [],
   "source": [
    "import os\n",
    "from langchain_openai import OpenAI\n",
    "from langchain_core.prompts import PromptTemplate, FewShotPromptTemplate\n",
    "from langchain_core.runnables.passthrough import RunnablePassthrough\n",
    "from langchain.memory.buffer import ConversationBufferMemory\n",
    "from dotenv import load_dotenv, find_dotenv"
   ]
  },
  {
   "cell_type": "code",
   "execution_count": 2,
   "id": "52bea40b-e375-479c-ac07-c22981bba87a",
   "metadata": {},
   "outputs": [
    {
     "data": {
      "text/plain": [
       "True"
      ]
     },
     "execution_count": 2,
     "metadata": {},
     "output_type": "execute_result"
    }
   ],
   "source": [
    "load_dotenv(find_dotenv())"
   ]
  },
  {
   "cell_type": "code",
   "execution_count": 3,
   "id": "560facc8-560d-4434-961c-d805e19944dd",
   "metadata": {},
   "outputs": [],
   "source": [
    "os.environ[\"OPENAI_API_KEY\"] = os.getenv(\"OPENAI_API_KEY\")"
   ]
  },
  {
   "cell_type": "code",
   "execution_count": 13,
   "id": "feccd606-d934-477b-ab01-c825bbf0e5b7",
   "metadata": {},
   "outputs": [],
   "source": [
    "EXAMPLES = [\n",
    "    {\n",
    "        \"query\": \"Product build for consumers which involes of processing of personal data\",\n",
    "        \"answer\": \"Guidelines: Data security and Privacy rights.\",\n",
    "        \"explanation\": \"\"\"\n",
    "        Since personal data being collected, people have the right to know how we are collecting their personal data and how long we are gonna store it. \n",
    "        We also need to make sure proper measures are in place to protect their data and we have proper encrpytion in place\n",
    "        \"\"\"\n",
    "    }\n",
    "]"
   ]
  },
  {
   "cell_type": "code",
   "execution_count": 14,
   "id": "bf7a7778-8f9f-42b0-be76-0f42f928c84b",
   "metadata": {},
   "outputs": [],
   "source": [
    "prompt = PromptTemplate(\n",
    "    template=\"\"\"\n",
    "    Role: An Expert General Data Protection Regulation (GDPR) expert which tells which guideline(s) to follow when building an application or product.\n",
    "    Instructions: Answer user query which guide line to follow. Take help from provided examples and don't make up any answer from your side. First completely analyse the question and properly think befor giving answer and only provide guideline name(s).\n",
    "    Question: {query}\n",
    "    Answer: {answer}\n",
    "    Explanation: {explanation}\n",
    "    \"\"\",\n",
    "    input_variables=[\"query\", \"answer\", \"explanation\"]\n",
    ")"
   ]
  },
  {
   "cell_type": "code",
   "execution_count": 15,
   "id": "a4053120-0904-4aa5-a44e-fe03a3da669c",
   "metadata": {},
   "outputs": [
    {
     "name": "stdout",
     "output_type": "stream",
     "text": [
      "\n",
      "    Role: An Expert General Data Protection Regulation (GDPR) expert which tells which guideline(s) to follow when building an application or product.\n",
      "    Instructions: Answer user query which guide line to follow. Take help from provided examples and don't make up any answer from your side. First completely analyse the question and properly think befor giving answer and only provide guideline name(s).\n",
      "    Question: Product build for consumers which involes of processing of personal data\n",
      "    Answer: Guidelines: Data security and Privacy rights.\n",
      "    Explanation: \n",
      "        Since personal data being collected, people have the right to know how we are collecting their personal data and how long we are gonna store it. \n",
      "        We also need to make sure proper measures are in place to protect their data and we have proper encrpytion in place\n",
      "        \n",
      "    \n"
     ]
    }
   ],
   "source": [
    "print(prompt.format(**EXAMPLES[0]))"
   ]
  },
  {
   "cell_type": "code",
   "execution_count": 16,
   "id": "c93ff019-053d-4060-bce6-6607cc2ecea6",
   "metadata": {},
   "outputs": [],
   "source": [
    "few_shot_template = FewShotPromptTemplate(\n",
    "    example_prompt=prompt,\n",
    "    examples=EXAMPLES,\n",
    "    suffix=\"Question: {query}\",\n",
    "    input_variables=[\"query\"]\n",
    ")"
   ]
  },
  {
   "cell_type": "code",
   "execution_count": 17,
   "id": "81697c37-7752-42b0-b11d-81b8a0b78d45",
   "metadata": {},
   "outputs": [
    {
     "name": "stdout",
     "output_type": "stream",
     "text": [
      "\n",
      "    Role: An Expert General Data Protection Regulation (GDPR) expert which tells which guideline(s) to follow when building an application or product.\n",
      "    Instructions: Answer user query which guide line to follow. Take help from provided examples and don't make up any answer from your side. First completely analyse the question and properly think befor giving answer and only provide guideline name(s).\n",
      "    Question: Product build for consumers which involes of processing of personal data\n",
      "    Answer: Guidelines: Data security and Privacy rights.\n",
      "    Explanation: \n",
      "        Since personal data being collected, people have the right to know how we are collecting their personal data and how long we are gonna store it. \n",
      "        We also need to make sure proper measures are in place to protect their data and we have proper encrpytion in place\n",
      "        \n",
      "    \n",
      "\n",
      "Question: Ask any question\n"
     ]
    }
   ],
   "source": [
    "print(few_shot_template.format(query=\"Ask any question\"))"
   ]
  },
  {
   "cell_type": "code",
   "execution_count": 18,
   "id": "68e60102-5484-4bc2-9f60-5efaafd144ed",
   "metadata": {},
   "outputs": [],
   "source": [
    "openai_llm = OpenAI(temperature=0.4)"
   ]
  },
  {
   "cell_type": "code",
   "execution_count": 19,
   "id": "8a7356c9-6cc8-49a1-8e3b-98ed75235528",
   "metadata": {},
   "outputs": [],
   "source": [
    "chain = (\n",
    "    {\"query\": RunnablePassthrough()}\n",
    "    | few_shot_template\n",
    "    | openai_llm\n",
    ")"
   ]
  },
  {
   "cell_type": "code",
   "execution_count": 20,
   "id": "14f59f8a-687a-4141-a733-8f4514d539cb",
   "metadata": {},
   "outputs": [
    {
     "name": "stdout",
     "output_type": "stream",
     "text": [
      "\n",
      "Answer: Guidelines: Lawfulness, fairness and transparency, Purpose limitation, Data minimization, Accuracy, Storage limitation, Integrity and confidentiality, and Accountability.\n",
      "Explanation: \n",
      "    Since personal data is being collected, people have the right to know how we are collecting their personal data and for what purpose. We should only collect the necessary information and make sure it is accurate. We also need to have proper measures in place to protect the data and only store it for as long as necessary. Finally, we need to be accountable for how we handle and process personal data.\n"
     ]
    }
   ],
   "source": [
    "ans = chain.invoke(\n",
    "    \"\"\"\n",
    "    We are building an online book store through which person can order book. For that we collection information like person's name, address, phone number.\n",
    "    Let me know which GDPR guidelines I need to follow?\n",
    "    \"\"\"\n",
    ")\n",
    "\n",
    "print(ans)"
   ]
  },
  {
   "cell_type": "code",
   "execution_count": null,
   "id": "83395289-5acb-49a4-88b2-7b9e05f2b6cc",
   "metadata": {},
   "outputs": [],
   "source": []
  },
  {
   "cell_type": "code",
   "execution_count": 7,
   "id": "cff7416b-e647-421c-bc02-8893aae66f4e",
   "metadata": {},
   "outputs": [],
   "source": []
  },
  {
   "cell_type": "code",
   "execution_count": null,
   "id": "ab484810-4bcb-4371-8b98-5509f9c4b9bf",
   "metadata": {},
   "outputs": [],
   "source": []
  },
  {
   "cell_type": "code",
   "execution_count": null,
   "id": "8e7a27e7-7316-40cd-9720-db4cb1de7878",
   "metadata": {},
   "outputs": [],
   "source": []
  },
  {
   "cell_type": "code",
   "execution_count": null,
   "id": "450a8ca7-4e27-4ced-b1dc-23861cae9164",
   "metadata": {},
   "outputs": [],
   "source": []
  },
  {
   "cell_type": "code",
   "execution_count": null,
   "id": "ce3431d4-f826-437e-b3c0-6b2e42e3a61d",
   "metadata": {},
   "outputs": [],
   "source": []
  },
  {
   "cell_type": "code",
   "execution_count": null,
   "id": "c63472f8-b7e7-461e-8344-dfa168e88124",
   "metadata": {},
   "outputs": [],
   "source": []
  }
 ],
 "metadata": {
  "kernelspec": {
   "display_name": "Python 3 (ipykernel)",
   "language": "python",
   "name": "python3"
  },
  "language_info": {
   "codemirror_mode": {
    "name": "ipython",
    "version": 3
   },
   "file_extension": ".py",
   "mimetype": "text/x-python",
   "name": "python",
   "nbconvert_exporter": "python",
   "pygments_lexer": "ipython3",
   "version": "3.11.4"
  }
 },
 "nbformat": 4,
 "nbformat_minor": 5
}
